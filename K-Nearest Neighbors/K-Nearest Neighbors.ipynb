{
 "cells": [
  {
   "cell_type": "markdown",
   "id": "9ba0c8c2",
   "metadata": {},
   "source": [
    "# K-Nearest Neighbors"
   ]
  },
  {
   "attachments": {
    "download.png": {
     "image/png": "[encoded data removed]"
    }
   },
   "cell_type": "markdown",
   "id": "243e72c6",
   "metadata": {},
   "source": [
    "![download.png](attachment:download.png)"
   ]
  },
  {
   "cell_type": "markdown",
   "id": "3a2503b4",
   "metadata": {},
   "source": [
    "## import library"
   ]
  },
  {
   "cell_type": "code",
   "execution_count": 1,
   "id": "8e4f5a6c",
   "metadata": {},
   "outputs": [],
   "source": [
    "import numpy as np\n",
    "import pandas as pd\n",
    "import matplotlib.pyplot as plt"
   ]
  },
  {
   "attachments": {
    "l.png": {
     "image/png": "[encoded data removed]"
    }
   },
   "cell_type": "markdown",
   "id": "9b752ee1",
   "metadata": {},
   "source": [
    "![l.png](attachment:l.png)"
   ]
  },
  {
   "cell_type": "markdown",
   "id": "9662b0b4",
   "metadata": {},
   "source": [
    "## Read Dataset"
   ]
  },
  {
   "cell_type": "code",
   "execution_count": 2,
   "id": "3aca80fd",
   "metadata": {},
   "outputs": [],
   "source": [
    "data = pd.read_csv(\"Data/Iris.csv\")"
   ]
  },
  {
   "cell_type": "code",
   "execution_count": 3,
   "id": "b408cc4a",
   "metadata": {},
   "outputs": [
    {
     "data": {
      "text/html": [
       "<div>\n",
       "<style scoped>\n",
       "    .dataframe tbody tr th:only-of-type {\n",
       "        vertical-align: middle;\n",
       "    }\n",
       "\n",
       "    .dataframe tbody tr th {\n",
       "        vertical-align: top;\n",
       "    }\n",
       "\n",
       "    .dataframe thead th {\n",
       "        text-align: right;\n",
       "    }\n",
       "</style>\n",
       "<table border=\"1\" class=\"dataframe\">\n",
       "  <thead>\n",
       "    <tr style=\"text-align: right;\">\n",
       "      <th></th>\n",
       "      <th>Id</th>\n",
       "      <th>SepalLengthCm</th>\n",
       "      <th>SepalWidthCm</th>\n",
       "      <th>PetalLengthCm</th>\n",
       "      <th>PetalWidthCm</th>\n",
       "      <th>Species</th>\n",
       "    </tr>\n",
       "  </thead>\n",
       "  <tbody>\n",
       "    <tr>\n",
       "      <th>0</th>\n",
       "      <td>1</td>\n",
       "      <td>5.1</td>\n",
       "      <td>3.5</td>\n",
       "      <td>1.4</td>\n",
       "      <td>0.2</td>\n",
       "      <td>Iris-setosa</td>\n",
       "    </tr>\n",
       "    <tr>\n",
       "      <th>1</th>\n",
       "      <td>2</td>\n",
       "      <td>4.9</td>\n",
       "      <td>3.0</td>\n",
       "      <td>1.4</td>\n",
       "      <td>0.2</td>\n",
       "      <td>Iris-setosa</td>\n",
       "    </tr>\n",
       "    <tr>\n",
       "      <th>2</th>\n",
       "      <td>3</td>\n",
       "      <td>4.7</td>\n",
       "      <td>3.2</td>\n",
       "      <td>1.3</td>\n",
       "      <td>0.2</td>\n",
       "      <td>Iris-setosa</td>\n",
       "    </tr>\n",
       "    <tr>\n",
       "      <th>3</th>\n",
       "      <td>4</td>\n",
       "      <td>4.6</td>\n",
       "      <td>3.1</td>\n",
       "      <td>1.5</td>\n",
       "      <td>0.2</td>\n",
       "      <td>Iris-setosa</td>\n",
       "    </tr>\n",
       "    <tr>\n",
       "      <th>4</th>\n",
       "      <td>5</td>\n",
       "      <td>5.0</td>\n",
       "      <td>3.6</td>\n",
       "      <td>1.4</td>\n",
       "      <td>0.2</td>\n",
       "      <td>Iris-setosa</td>\n",
       "    </tr>\n",
       "  </tbody>\n",
       "</table>\n",
       "</div>"
      ],
      "text/plain": [
       "   Id  SepalLengthCm  SepalWidthCm  PetalLengthCm  PetalWidthCm      Species\n",
       "0   1            5.1           3.5            1.4           0.2  Iris-setosa\n",
       "1   2            4.9           3.0            1.4           0.2  Iris-setosa\n",
       "2   3            4.7           3.2            1.3           0.2  Iris-setosa\n",
       "3   4            4.6           3.1            1.5           0.2  Iris-setosa\n",
       "4   5            5.0           3.6            1.4           0.2  Iris-setosa"
      ]
     },
     "execution_count": 3,
     "metadata": {},
     "output_type": "execute_result"
    }
   ],
   "source": [
    "data.head()"
   ]
  },
  {
   "attachments": {
    "l.png": {
     "image/png": "[encoded data removed]"
    }
   },
   "cell_type": "markdown",
   "id": "cfcf5481",
   "metadata": {},
   "source": [
    "![l.png](attachment:l.png)"
   ]
  },
  {
   "cell_type": "markdown",
   "id": "cb5fd8e3",
   "metadata": {},
   "source": [
    "## split data to training and test"
   ]
  },
  {
   "cell_type": "code",
   "execution_count": 4,
   "id": "73b73421",
   "metadata": {},
   "outputs": [],
   "source": [
    "x = data[[\"SepalLengthCm\", \"SepalWidthCm\", \"PetalLengthCm\", \"PetalWidthCm\"]]\n",
    "y = data[\"Species\"]\n",
    "\n",
    "training_data = data.sample(frac=0.8, random_state=25)\n",
    "testing_data = data.drop(training_data.index)"
   ]
  },
  {
   "cell_type": "code",
   "execution_count": 5,
   "id": "89b1513e",
   "metadata": {},
   "outputs": [],
   "source": [
    "x_train = training_data[[\"SepalLengthCm\", \"SepalWidthCm\", \"PetalLengthCm\", \"PetalWidthCm\"]]\n",
    "x_test = testing_data[[\"SepalLengthCm\", \"SepalWidthCm\", \"PetalLengthCm\", \"PetalWidthCm\"]] \n",
    "\n",
    "y_train = training_data[\"Species\"]\n",
    "y_test = testing_data[\"Species\"]"
   ]
  },
  {
   "cell_type": "code",
   "execution_count": 6,
   "id": "40abe5a5",
   "metadata": {},
   "outputs": [
    {
     "data": {
      "text/html": [
       "<div>\n",
       "<style scoped>\n",
       "    .dataframe tbody tr th:only-of-type {\n",
       "        vertical-align: middle;\n",
       "    }\n",
       "\n",
       "    .dataframe tbody tr th {\n",
       "        vertical-align: top;\n",
       "    }\n",
       "\n",
       "    .dataframe thead th {\n",
       "        text-align: right;\n",
       "    }\n",
       "</style>\n",
       "<table border=\"1\" class=\"dataframe\">\n",
       "  <thead>\n",
       "    <tr style=\"text-align: right;\">\n",
       "      <th></th>\n",
       "      <th>SepalLengthCm</th>\n",
       "      <th>SepalWidthCm</th>\n",
       "      <th>PetalLengthCm</th>\n",
       "      <th>PetalWidthCm</th>\n",
       "    </tr>\n",
       "  </thead>\n",
       "  <tbody>\n",
       "    <tr>\n",
       "      <th>28</th>\n",
       "      <td>5.2</td>\n",
       "      <td>3.4</td>\n",
       "      <td>1.4</td>\n",
       "      <td>0.2</td>\n",
       "    </tr>\n",
       "    <tr>\n",
       "      <th>72</th>\n",
       "      <td>6.3</td>\n",
       "      <td>2.5</td>\n",
       "      <td>4.9</td>\n",
       "      <td>1.5</td>\n",
       "    </tr>\n",
       "  </tbody>\n",
       "</table>\n",
       "</div>"
      ],
      "text/plain": [
       "    SepalLengthCm  SepalWidthCm  PetalLengthCm  PetalWidthCm\n",
       "28            5.2           3.4            1.4           0.2\n",
       "72            6.3           2.5            4.9           1.5"
      ]
     },
     "execution_count": 6,
     "metadata": {},
     "output_type": "execute_result"
    }
   ],
   "source": [
    "x_train.head(2)"
   ]
  },
  {
   "cell_type": "code",
   "execution_count": 7,
   "id": "3730d128",
   "metadata": {},
   "outputs": [
    {
     "data": {
      "text/html": [
       "<div>\n",
       "<style scoped>\n",
       "    .dataframe tbody tr th:only-of-type {\n",
       "        vertical-align: middle;\n",
       "    }\n",
       "\n",
       "    .dataframe tbody tr th {\n",
       "        vertical-align: top;\n",
       "    }\n",
       "\n",
       "    .dataframe thead th {\n",
       "        text-align: right;\n",
       "    }\n",
       "</style>\n",
       "<table border=\"1\" class=\"dataframe\">\n",
       "  <thead>\n",
       "    <tr style=\"text-align: right;\">\n",
       "      <th></th>\n",
       "      <th>SepalLengthCm</th>\n",
       "      <th>SepalWidthCm</th>\n",
       "      <th>PetalLengthCm</th>\n",
       "      <th>PetalWidthCm</th>\n",
       "    </tr>\n",
       "  </thead>\n",
       "  <tbody>\n",
       "    <tr>\n",
       "      <th>1</th>\n",
       "      <td>4.9</td>\n",
       "      <td>3.0</td>\n",
       "      <td>1.4</td>\n",
       "      <td>0.2</td>\n",
       "    </tr>\n",
       "    <tr>\n",
       "      <th>3</th>\n",
       "      <td>4.6</td>\n",
       "      <td>3.1</td>\n",
       "      <td>1.5</td>\n",
       "      <td>0.2</td>\n",
       "    </tr>\n",
       "  </tbody>\n",
       "</table>\n",
       "</div>"
      ],
      "text/plain": [
       "   SepalLengthCm  SepalWidthCm  PetalLengthCm  PetalWidthCm\n",
       "1            4.9           3.0            1.4           0.2\n",
       "3            4.6           3.1            1.5           0.2"
      ]
     },
     "execution_count": 7,
     "metadata": {},
     "output_type": "execute_result"
    }
   ],
   "source": [
    "x_test.head(2)"
   ]
  },
  {
   "cell_type": "code",
   "execution_count": 8,
   "id": "1a1eed52",
   "metadata": {},
   "outputs": [
    {
     "data": {
      "text/plain": [
       "28        Iris-setosa\n",
       "72    Iris-versicolor\n",
       "Name: Species, dtype: object"
      ]
     },
     "execution_count": 8,
     "metadata": {},
     "output_type": "execute_result"
    }
   ],
   "source": [
    "y_train.head(2)"
   ]
  },
  {
   "cell_type": "code",
   "execution_count": 9,
   "id": "50f0f2d7",
   "metadata": {},
   "outputs": [
    {
     "data": {
      "text/plain": [
       "1    Iris-setosa\n",
       "3    Iris-setosa\n",
       "Name: Species, dtype: object"
      ]
     },
     "execution_count": 9,
     "metadata": {},
     "output_type": "execute_result"
    }
   ],
   "source": [
    "y_test.head(2)"
   ]
  },
  {
   "attachments": {
    "l.png": {
     "image/png": "[encoded data removed]"
    }
   },
   "cell_type": "markdown",
   "id": "e7ebbd7c",
   "metadata": {},
   "source": [
    "![l.png](attachment:l.png)"
   ]
  },
  {
   "cell_type": "code",
   "execution_count": 10,
   "id": "e274c364",
   "metadata": {},
   "outputs": [
    {
     "data": {
      "text/plain": [
       "array(['Iris-setosa', 'Iris-versicolor', 'Iris-virginica'], dtype=object)"
      ]
     },
     "execution_count": 10,
     "metadata": {},
     "output_type": "execute_result"
    }
   ],
   "source": [
    "data['Species'].unique()"
   ]
  },
  {
   "cell_type": "code",
   "execution_count": 11,
   "id": "eb946eab",
   "metadata": {},
   "outputs": [
    {
     "data": {
      "text/plain": [
       "array(['Iris-setosa', 'Iris-versicolor', 'Iris-virginica'], dtype=object)"
      ]
     },
     "execution_count": 11,
     "metadata": {},
     "output_type": "execute_result"
    }
   ],
   "source": [
    "color = np.where(data['Species'] == 'Iris-setosa', 0, np.where(data['Species'] == 'Iris-versicolor', 1, np.where(data['Species'] == 'Iris-virginica', 2, data['Species'])))\n",
    "\n",
    "data['Species'].unique()"
   ]
  },
  {
   "cell_type": "code",
   "execution_count": 12,
   "id": "590b48b5",
   "metadata": {},
   "outputs": [
    {
     "data": {
      "image/png": "[encoded data removed]",
      "text/plain": [
       "<Figure size 640x480 with 1 Axes>"
      ]
     },
     "metadata": {},
     "output_type": "display_data"
    }
   ],
   "source": [
    "plt.scatter(x[\"SepalLengthCm\"], x[\"SepalWidthCm\"], c=color)\n",
    "\n",
    "plt.title(\"Iris Dataset\")\n",
    "\n",
    "plt.show()"
   ]
  },
  {
   "attachments": {
    "l.png": {
     "image/png": "[encoded data removed]"
    }
   },
   "cell_type": "markdown",
   "id": "8e60fb64",
   "metadata": {},
   "source": [
    "![l.png](attachment:l.png)"
   ]
  },
  {
   "cell_type": "code",
   "execution_count": 13,
   "id": "dc6f8e96",
   "metadata": {},
   "outputs": [],
   "source": [
    "class K_Nearest_Neighbors:\n",
    "    \n",
    "    def __init__(self, k=3):\n",
    "        self.k = k\n",
    "        \n",
    "    def fit(self, x, y):\n",
    "        self.x_train = x\n",
    "        self.y_train = y\n",
    "    \n",
    "    def euclidean_distances(self, x1, x2):\n",
    "        distances = np.sqrt(np.sum((x2 - x1)**2))\n",
    "        return distances\n",
    "    \n",
    "    def most_common(self, lst):\n",
    "        return max(set(lst), key=lst.count)\n",
    "    \n",
    "    def predict(self, x):\n",
    "        predict_y_labels = [self._predict(x_test) for x_test in x.to_numpy()]\n",
    "        return predict_y_labels\n",
    "    \n",
    "    def _predict(self, x):\n",
    "        # compute distances\n",
    "        distances = [self.euclidean_distances(x, xTrain) for xTrain in self.x_train.to_numpy()]\n",
    "        # print(np.sort(distances))\n",
    "        \n",
    "        # get k nearest neigbors for all samples, labels\n",
    "        k_indexs = np.argsort(distances)[:self.k]\n",
    "        # print(k_indexs)\n",
    "        k_nearest_labels = [self.y_train.iloc[i] for i in k_indexs]\n",
    "        # print(k_nearest_labels)\n",
    "        \n",
    "        # majority vote, most common sample labels\n",
    "        most_common = self.most_common(k_nearest_labels)\n",
    "        # print(most_common)\n",
    "        return most_common\n",
    "        "
   ]
  },
  {
   "attachments": {
    "l.png": {
     "image/png": "[encoded data removed]"
    }
   },
   "cell_type": "markdown",
   "id": "2672b440",
   "metadata": {},
   "source": [
    "![l.png](attachment:l.png)"
   ]
  },
  {
   "cell_type": "code",
   "execution_count": 14,
   "id": "f954bdfc",
   "metadata": {},
   "outputs": [],
   "source": [
    "def accuracy(predictions, y_test):\n",
    "    return np.sum(predictions == y_test) / len(y_test)"
   ]
  },
  {
   "attachments": {
    "l.png": {
     "image/png": "[encoded data removed]"
    }
   },
   "cell_type": "markdown",
   "id": "f9893a83",
   "metadata": {},
   "source": [
    "![l.png](attachment:l.png)"
   ]
  },
  {
   "cell_type": "code",
   "execution_count": 15,
   "id": "96b9b089",
   "metadata": {},
   "outputs": [
    {
     "name": "stdout",
     "output_type": "stream",
     "text": [
      "Accuracy: 0.9666666666666667%\n"
     ]
    }
   ],
   "source": [
    "KNN = K_Nearest_Neighbors(k=3)\n",
    "KNN.fit(x_train, y_train)\n",
    "predictions = KNN.predict(x_test)\n",
    "\n",
    "print(f\"Accuracy: {accuracy(predictions, y_test)}%\")"
   ]
  },
  {
   "cell_type": "code",
   "execution_count": null,
   "id": "230f2638",
   "metadata": {},
   "outputs": [],
   "source": []
  }
 ],
 "metadata": {
  "kernelspec": {
   "display_name": "Python 3 (ipykernel)",
   "language": "python",
   "name": "python3"
  },
  "language_info": {
   "codemirror_mode": {
    "name": "ipython",
    "version": 3
   },
   "file_extension": ".py",
   "mimetype": "text/x-python",
   "name": "python",
   "nbconvert_exporter": "python",
   "pygments_lexer": "ipython3",
   "version": "3.10.7"
  }
 },
 "nbformat": 4,
 "nbformat_minor": 5
}
